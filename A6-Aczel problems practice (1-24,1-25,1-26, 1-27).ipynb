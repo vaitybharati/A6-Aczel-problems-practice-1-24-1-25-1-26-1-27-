{
 "cells": [
  {
   "cell_type": "markdown",
   "metadata": {},
   "source": [
    "# A6-Aczel problems practice (1-24,1-25,1-26, 1-27)"
   ]
  },
  {
   "cell_type": "markdown",
   "metadata": {},
   "source": [
    "#### 24. Find the mean, median, and mode(s) of the observations in below table"
   ]
  },
  {
   "cell_type": "raw",
   "metadata": {},
   "source": [
    "TABLE 1–1 Boston Condominium Data\n",
    " \n",
    "Asking_Price Number_of_Bedrooms Number_of_Bathrooms Direction_Facing Washer/Dryer? Doorman?\n",
    "$709,000             2                  1                    E             Y           Y\n",
    "812,500              2                  2                    N             N           Y\n",
    "980,000              3                  3                    N             Y           Y\n",
    "830,000              1                  2                    W             N           N\n",
    "850,900              2                  2                    W             Y           N\n",
    "\n",
    "Data in 100 dollars: 7090, 8125, 9800, 8300, 8509"
   ]
  },
  {
   "cell_type": "code",
   "execution_count": 2,
   "metadata": {},
   "outputs": [],
   "source": [
    "import numpy as np\n",
    "import pandas as pd"
   ]
  },
  {
   "cell_type": "code",
   "execution_count": 13,
   "metadata": {},
   "outputs": [],
   "source": [
    "data1=[7090, 8125, 9800, 8300, 8509]"
   ]
  },
  {
   "cell_type": "code",
   "execution_count": 14,
   "metadata": {},
   "outputs": [
    {
     "data": {
      "text/plain": [
       "0    7090\n",
       "1    8125\n",
       "2    8300\n",
       "3    8509\n",
       "4    9800\n",
       "dtype: int64"
      ]
     },
     "execution_count": 14,
     "metadata": {},
     "output_type": "execute_result"
    }
   ],
   "source": [
    "dt1=pd.Series(sorted(data))\n",
    "dt1"
   ]
  },
  {
   "cell_type": "code",
   "execution_count": 15,
   "metadata": {},
   "outputs": [
    {
     "data": {
      "text/plain": [
       "8364.8"
      ]
     },
     "execution_count": 15,
     "metadata": {},
     "output_type": "execute_result"
    }
   ],
   "source": [
    "# Mean\n",
    "dt1.mean()"
   ]
  },
  {
   "cell_type": "code",
   "execution_count": 16,
   "metadata": {},
   "outputs": [
    {
     "data": {
      "text/plain": [
       "8300.0"
      ]
     },
     "execution_count": 16,
     "metadata": {},
     "output_type": "execute_result"
    }
   ],
   "source": [
    "# Median\n",
    "dt1.median()"
   ]
  },
  {
   "cell_type": "code",
   "execution_count": 17,
   "metadata": {},
   "outputs": [
    {
     "data": {
      "text/plain": [
       "0    7090\n",
       "1    8125\n",
       "2    8300\n",
       "3    8509\n",
       "4    9800\n",
       "dtype: int64"
      ]
     },
     "execution_count": 17,
     "metadata": {},
     "output_type": "execute_result"
    }
   ],
   "source": [
    "# Mode\n",
    "dt1.mode() # Mode is none"
   ]
  },
  {
   "cell_type": "markdown",
   "metadata": {},
   "source": [
    "#### 25. Find the mean, mode, and median for the data set \n",
    "7, 8, 8, 12, 12, 12, 14, 15, 20, 47, 52, 54."
   ]
  },
  {
   "cell_type": "code",
   "execution_count": 19,
   "metadata": {},
   "outputs": [],
   "source": [
    "data2=[7, 8, 8, 12, 12, 12, 14, 15, 20, 47, 52, 54]"
   ]
  },
  {
   "cell_type": "code",
   "execution_count": 20,
   "metadata": {},
   "outputs": [
    {
     "data": {
      "text/plain": [
       "0      7\n",
       "1      8\n",
       "2      8\n",
       "3     12\n",
       "4     12\n",
       "5     12\n",
       "6     14\n",
       "7     15\n",
       "8     20\n",
       "9     47\n",
       "10    52\n",
       "11    54\n",
       "dtype: int64"
      ]
     },
     "execution_count": 20,
     "metadata": {},
     "output_type": "execute_result"
    }
   ],
   "source": [
    "dt2=pd.Series(sorted(data2))\n",
    "dt2"
   ]
  },
  {
   "cell_type": "code",
   "execution_count": 21,
   "metadata": {},
   "outputs": [
    {
     "data": {
      "text/plain": [
       "21.75"
      ]
     },
     "execution_count": 21,
     "metadata": {},
     "output_type": "execute_result"
    }
   ],
   "source": [
    "# Mean\n",
    "dt2.mean()"
   ]
  },
  {
   "cell_type": "code",
   "execution_count": 22,
   "metadata": {},
   "outputs": [
    {
     "data": {
      "text/plain": [
       "13.0"
      ]
     },
     "execution_count": 22,
     "metadata": {},
     "output_type": "execute_result"
    }
   ],
   "source": [
    "# Median\n",
    "dt2.median()"
   ]
  },
  {
   "cell_type": "code",
   "execution_count": 23,
   "metadata": {
    "scrolled": true
   },
   "outputs": [
    {
     "data": {
      "text/plain": [
       "0    12\n",
       "dtype: int64"
      ]
     },
     "execution_count": 23,
     "metadata": {},
     "output_type": "execute_result"
    }
   ],
   "source": [
    "# Mode\n",
    "dt2.mode()"
   ]
  },
  {
   "cell_type": "markdown",
   "metadata": {},
   "source": [
    "#### 26.For the following stock price one-year percentage changes, plot the data and identify any outliers. Find the mean and median.\n"
   ]
  },
  {
   "cell_type": "raw",
   "metadata": {},
   "source": [
    "Intel            -6.9%\n",
    "AT&T              46.5\n",
    "General Electric  12.1\n",
    "ExxonMobil        20.7\n",
    "Microsoft         16.9\n",
    "Pfizer            17.2\n",
    "Citigroup         16.5"
   ]
  },
  {
   "cell_type": "code",
   "execution_count": 25,
   "metadata": {},
   "outputs": [],
   "source": [
    "import matplotlib.pyplot as plt\n",
    "import seaborn as sns\n",
    "%matplotlib inline"
   ]
  },
  {
   "cell_type": "code",
   "execution_count": 26,
   "metadata": {},
   "outputs": [],
   "source": [
    "data3=[-6.9,46.5,12.1,20.7,16.9,17.2,16.5]"
   ]
  },
  {
   "cell_type": "code",
   "execution_count": 27,
   "metadata": {},
   "outputs": [
    {
     "data": {
      "text/plain": [
       "0    -6.9\n",
       "1    12.1\n",
       "2    16.5\n",
       "3    16.9\n",
       "4    17.2\n",
       "5    20.7\n",
       "6    46.5\n",
       "dtype: float64"
      ]
     },
     "execution_count": 27,
     "metadata": {},
     "output_type": "execute_result"
    }
   ],
   "source": [
    "dt3=pd.Series(sorted(data3))\n",
    "dt3"
   ]
  },
  {
   "cell_type": "code",
   "execution_count": 32,
   "metadata": {},
   "outputs": [
    {
     "data": {
      "text/plain": [
       "{'whiskers': [<matplotlib.lines.Line2D at 0x28670d48b80>,\n",
       "  <matplotlib.lines.Line2D at 0x28670d48ee0>],\n",
       " 'caps': [<matplotlib.lines.Line2D at 0x28670d56280>,\n",
       "  <matplotlib.lines.Line2D at 0x28670d565e0>],\n",
       " 'boxes': [<matplotlib.lines.Line2D at 0x28670d48820>],\n",
       " 'medians': [<matplotlib.lines.Line2D at 0x28670d56940>],\n",
       " 'fliers': [<matplotlib.lines.Line2D at 0x28670d56c40>],\n",
       " 'means': []}"
      ]
     },
     "execution_count": 32,
     "metadata": {},
     "output_type": "execute_result"
    },
    {
     "data": {
      "image/png": "[encoded data removed]",
      "text/plain": [
       "<Figure size 432x288 with 1 Axes>"
      ]
     },
     "metadata": {
      "needs_background": "light"
     },
     "output_type": "display_data"
    }
   ],
   "source": [
    "# plot data to identify outliars\n",
    "plt.boxplot(dt3)"
   ]
  },
  {
   "cell_type": "markdown",
   "metadata": {},
   "source": [
    "2 Outliars = 46.5% & -6.9%"
   ]
  },
  {
   "cell_type": "code",
   "execution_count": 34,
   "metadata": {},
   "outputs": [
    {
     "data": {
      "text/plain": [
       "17.571428571428573"
      ]
     },
     "execution_count": 34,
     "metadata": {},
     "output_type": "execute_result"
    }
   ],
   "source": [
    "# Mean\n",
    "dt3.mean()"
   ]
  },
  {
   "cell_type": "code",
   "execution_count": 35,
   "metadata": {},
   "outputs": [
    {
     "data": {
      "text/plain": [
       "16.9"
      ]
     },
     "execution_count": 35,
     "metadata": {},
     "output_type": "execute_result"
    }
   ],
   "source": [
    "# Median\n",
    "dt3.median()"
   ]
  },
  {
   "cell_type": "markdown",
   "metadata": {},
   "source": [
    "#### 27. The following data are the median returns on investment, in percent, for 10 industries. Find the median of these medians and their mean.\n"
   ]
  },
  {
   "cell_type": "raw",
   "metadata": {},
   "source": [
    "Consumer staples           24.3%\n",
    "Energy                     23.3\n",
    "Health care                22.1\n",
    "Financials                 21.0\n",
    "Industrials                19.2\n",
    "Consumer discretionary     19.0\n",
    "Materials                  18.1\n",
    "Information technology     15.1\n",
    "Telecommunication services 11.0\n",
    "Utilities                  10.4"
   ]
  },
  {
   "cell_type": "code",
   "execution_count": 36,
   "metadata": {},
   "outputs": [],
   "source": [
    "data4=[24.3,23.3,22.1,21,19.2,19,18.1,15.1,11,10.4]"
   ]
  },
  {
   "cell_type": "code",
   "execution_count": 38,
   "metadata": {},
   "outputs": [
    {
     "data": {
      "text/plain": [
       "0    10.4\n",
       "1    11.0\n",
       "2    15.1\n",
       "3    18.1\n",
       "4    19.0\n",
       "5    19.2\n",
       "6    21.0\n",
       "7    22.1\n",
       "8    23.3\n",
       "9    24.3\n",
       "dtype: float64"
      ]
     },
     "execution_count": 38,
     "metadata": {},
     "output_type": "execute_result"
    }
   ],
   "source": [
    "dt4=pd.Series(sorted(data4))\n",
    "dt4"
   ]
  },
  {
   "cell_type": "code",
   "execution_count": 39,
   "metadata": {},
   "outputs": [
    {
     "data": {
      "text/plain": [
       "19.1"
      ]
     },
     "execution_count": 39,
     "metadata": {},
     "output_type": "execute_result"
    }
   ],
   "source": [
    "# Median\n",
    "dt4.median()"
   ]
  },
  {
   "cell_type": "code",
   "execution_count": 40,
   "metadata": {},
   "outputs": [
    {
     "data": {
      "text/plain": [
       "18.35"
      ]
     },
     "execution_count": 40,
     "metadata": {},
     "output_type": "execute_result"
    }
   ],
   "source": [
    "# Mean\n",
    "dt4.mean()"
   ]
  },
  {
   "cell_type": "code",
   "execution_count": null,
   "metadata": {},
   "outputs": [],
   "source": []
  }
 ],
 "metadata": {
  "kernelspec": {
   "display_name": "Python 3",
   "language": "python",
   "name": "python3"
  },
  "language_info": {
   "codemirror_mode": {
    "name": "ipython",
    "version": 3
   },
   "file_extension": ".py",
   "mimetype": "text/x-python",
   "name": "python",
   "nbconvert_exporter": "python",
   "pygments_lexer": "ipython3",
   "version": "3.8.3"
  }
 },
 "nbformat": 4,
 "nbformat_minor": 4
}
